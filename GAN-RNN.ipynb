{
 "cells": [
  {
   "cell_type": "markdown",
   "metadata": {},
   "source": [
    "Objective:\n",
    "My objevtive for the machine learning project is to create a Recurrent Neural Network (RNN) that can generate (somewhat) legible poetry based on a collection of poems with a GAN external network to optimize the RNN potential. To do so, I will take a kaggle dataset with 500+ poems written from the reniassance and modern era of poetry to be used as the 'real' data for the discriminator.\n",
    "\n",
    "Tools:\n",
    "Libraries include pandas, numpy, keras.preprocessing for tokenizer (discussed below), GloVe dictionary (below), and keras.layers/models and the like for neural network model architecture and execution. \n",
    "\n",
    "Various hygiene methods are required to standardize each poem into the same length, as well as adding padding for poems less in length. Instead of feeding in actual words, I will encode each word into a tokenizer, so integers are fed into the network rather than words. Further, to better contend with writing legible poetry, I use feature engineering from https://nlp.stanford.edu/projects/glove/ to encode words to higher dimensional space. Words with similar meaning should have a similar vector space, for example. \n",
    "\n",
    "Both the generator and discriminator have RNN structures, including one LSTM layer to predict the next word based on the series of words prior in sequence. The discriminator will take samples from our real poems and full generated poems to try and classify real from fake. \n",
    "\n",
    "\n",
    "link to data : https://www.kaggle.com/ishnoor/poetry-analysis-with-machine-learning\n",
    "\n",
    "References: some hygiene steps came from https://www.kaggle.com/hsankesara/mr-poet and some GAN framework coding came from https://github.com/fchollet/deep-learning-with-python-notebooks/blob/master/8.5-introduction-to-gans.ipynb"
   ]
  },
  {
   "cell_type": "code",
   "execution_count": 2,
   "metadata": {},
   "outputs": [],
   "source": [
    "import pandas as pd\n",
    "import numpy as np\n",
    "\n",
    "poems = pd.read_csv(\"all.csv\")"
   ]
  },
  {
   "cell_type": "markdown",
   "metadata": {},
   "source": [
    "#### Adding character length column"
   ]
  },
  {
   "cell_type": "code",
   "execution_count": 3,
   "metadata": {},
   "outputs": [
    {
     "name": "stderr",
     "output_type": "stream",
     "text": [
      "/Users/samburtch/anaconda3/lib/python3.6/site-packages/ipykernel_launcher.py:3: SettingWithCopyWarning: \n",
      "A value is trying to be set on a copy of a slice from a DataFrame\n",
      "\n",
      "See the caveats in the documentation: http://pandas.pydata.org/pandas-docs/stable/indexing.html#indexing-view-versus-copy\n",
      "  This is separate from the ipykernel package so we can avoid doing imports until\n"
     ]
    }
   ],
   "source": [
    "poems['length'] = 0\n",
    "for i in range(len(poems)):\n",
    "    poems['length'][i] = len(poems['content'][i])"
   ]
  },
  {
   "cell_type": "markdown",
   "metadata": {},
   "source": [
    "### Clean data by deleting null entries and non-poems"
   ]
  },
  {
   "cell_type": "code",
   "execution_count": 4,
   "metadata": {
    "scrolled": true
   },
   "outputs": [
    {
     "name": "stdout",
     "output_type": "stream",
     "text": [
      "552\n",
      "536\n",
      "518\n",
      "465\n"
     ]
    }
   ],
   "source": [
    "poems = poems.sort_values(by='length') #Sort by length of poem\n",
    "poems = poems[14:len(poems)-5] # Delete tails on both sides\n",
    "poems = poems[poems['content'].str.contains('Published')==False]# Eliminate non-poems with 'Published'\n",
    "print(len(poems))\n",
    "poems = poems[poems['content'].str.contains('from Selected Poems')==False]# Eliminate non-poems with 'from Selected Poems'\n",
    "print(len(poems))\n",
    "poems = poems[poems['content'].str.contains('Collected Poems')==False]# Eliminate non-poems with 'from Collected Poems'\n",
    "print(len(poems))\n",
    "#Eliminate where poem is just intro\n",
    "for ind, row in poems.iterrows():\n",
    "    if row['author'] in row['content'].upper() or str(row['poem name']) in row['content'][:40]:\n",
    "        poems = poems.drop([ind])\n",
    "print(len(poems))"
   ]
  },
  {
   "cell_type": "markdown",
   "metadata": {},
   "source": [
    "### Hygiene: only poems between 100 & 1000 in character length"
   ]
  },
  {
   "cell_type": "code",
   "execution_count": 5,
   "metadata": {},
   "outputs": [],
   "source": [
    "num_poems = len(poems)\n",
    "poem = poems['content'][:num_poems]\n",
    "poem = poem[poems['length'] > 100]\n",
    "poem = poem[poems['length'] < 1000]\n",
    "poem = poem.reset_index(drop=True)\n",
    "X = poem\n",
    "num_poems = len(poem)"
   ]
  },
  {
   "cell_type": "markdown",
   "metadata": {},
   "source": [
    "### Create vocab size and word dictionary"
   ]
  },
  {
   "cell_type": "code",
   "execution_count": 6,
   "metadata": {},
   "outputs": [],
   "source": [
    "temp = ''\n",
    "for i in range(num_poems):\n",
    "    temp += poem[i] + ' '\n",
    "poem = temp\n",
    "\n",
    "import re\n",
    "#poem = re.sub(' +',' ',poem)\n",
    "poem = poem.lower()\n",
    "poem = re.findall(r'[\\w]+|[\\'!\"#$%&()*+,-./:;<=>?@[\\]^_`{|}~]',poem)\n",
    "words = list(set(poem))\n",
    "vocab_size = len(words)\n",
    "#print(vocab_size)\n"
   ]
  },
  {
   "cell_type": "code",
   "execution_count": 7,
   "metadata": {},
   "outputs": [
    {
     "name": "stdout",
     "output_type": "stream",
     "text": [
      "count                                                   349\n",
      "unique                                                  311\n",
      "top       When I was fair and young, then favor graced m...\n",
      "freq                                                      3\n",
      "Name: content, dtype: object\n"
     ]
    }
   ],
   "source": [
    "print(X.describe())"
   ]
  },
  {
   "cell_type": "code",
   "execution_count": 8,
   "metadata": {},
   "outputs": [
    {
     "data": {
      "text/plain": [
       "'The fog comes\\r\\non little cat feet.\\r\\n\\r\\nIt sits looking\\r\\nover harbor and city\\r\\non silent haunches\\r\\nand then moves on.'"
      ]
     },
     "execution_count": 8,
     "metadata": {},
     "output_type": "execute_result"
    }
   ],
   "source": [
    "X[0]"
   ]
  },
  {
   "cell_type": "code",
   "execution_count": 9,
   "metadata": {},
   "outputs": [],
   "source": [
    "for i in range(len(X)):\n",
    "    X[i] = X[i].replace(\"\\r\\n\",\" \")  "
   ]
  },
  {
   "cell_type": "markdown",
   "metadata": {},
   "source": [
    "### Feature Engineering: Convert words to integers (tokenizer)  "
   ]
  },
  {
   "cell_type": "code",
   "execution_count": 10,
   "metadata": {},
   "outputs": [
    {
     "name": "stderr",
     "output_type": "stream",
     "text": [
      "/Users/samburtch/anaconda3/lib/python3.6/site-packages/h5py/__init__.py:36: FutureWarning: Conversion of the second argument of issubdtype from `float` to `np.floating` is deprecated. In future, it will be treated as `np.float64 == np.dtype(float).type`.\n",
      "  from ._conv import register_converters as _register_converters\n",
      "Using TensorFlow backend.\n"
     ]
    }
   ],
   "source": [
    "from keras.preprocessing.text import  Tokenizer\n",
    "from keras.preprocessing.sequence import pad_sequences"
   ]
  },
  {
   "cell_type": "code",
   "execution_count": 11,
   "metadata": {},
   "outputs": [],
   "source": [
    "tokenizer = Tokenizer( num_words=vocab_size)"
   ]
  },
  {
   "cell_type": "code",
   "execution_count": 12,
   "metadata": {},
   "outputs": [],
   "source": [
    "tokenizer.fit_on_texts(X)"
   ]
  },
  {
   "cell_type": "code",
   "execution_count": 13,
   "metadata": {},
   "outputs": [],
   "source": [
    "text = tokenizer.texts_to_sequences(X)\n",
    "maxlen = 0\n",
    "for i in text:\n",
    "    if len(i) > maxlen:\n",
    "        maxlen = len(i)\n",
    "text = pad_sequences(text, maxlen=maxlen, padding='post')"
   ]
  },
  {
   "cell_type": "code",
   "execution_count": 14,
   "metadata": {},
   "outputs": [],
   "source": [
    "word_dict = tokenizer.word_index"
   ]
  },
  {
   "cell_type": "code",
   "execution_count": 15,
   "metadata": {},
   "outputs": [],
   "source": [
    "maxwords = len(word_dict)"
   ]
  },
  {
   "cell_type": "markdown",
   "metadata": {},
   "source": [
    "### Map words to 50-dim vector (embedding_matrix)"
   ]
  },
  {
   "cell_type": "code",
   "execution_count": 16,
   "metadata": {},
   "outputs": [],
   "source": [
    "embedding_matrix = np.zeros((maxwords+1,50))"
   ]
  },
  {
   "cell_type": "code",
   "execution_count": 17,
   "metadata": {},
   "outputs": [],
   "source": [
    "with open('glove.6B.50d.txt') as f:\n",
    "    for line in f:\n",
    "        l = line.split()\n",
    "        if l[0] in word_dict:\n",
    "            indx = word_dict[l[0]]\n",
    "            for i in range(50):\n",
    "                embedding_matrix[indx][i] = l[i+1]"
   ]
  },
  {
   "cell_type": "markdown",
   "metadata": {},
   "source": [
    "### Create 349 x 177 x 50 X_train matrix"
   ]
  },
  {
   "cell_type": "code",
   "execution_count": 18,
   "metadata": {},
   "outputs": [],
   "source": [
    "x_train = np.zeros((349,177,50),dtype='float32')\n",
    "for indp, poem in enumerate(text):\n",
    "    for indw, word in enumerate(poem):\n",
    "        x_train[indp,indw,:] = embedding_matrix[word]"
   ]
  },
  {
   "cell_type": "markdown",
   "metadata": {},
   "source": [
    "## Network "
   ]
  },
  {
   "cell_type": "code",
   "execution_count": 19,
   "metadata": {
    "scrolled": false
   },
   "outputs": [],
   "source": [
    "from keras.models import Sequential, Model\n",
    "from keras.layers import Embedding, LSTM, Dropout, TimeDistributed, Dense, Activation, Input\n",
    "from keras.optimizers import RMSprop\n",
    "\n",
    "\n",
    "num_steps = 177\n",
    "#hidden_size = 350\n",
    "feature_dim = 50"
   ]
  },
  {
   "cell_type": "markdown",
   "metadata": {},
   "source": [
    "### Generator"
   ]
  },
  {
   "cell_type": "code",
   "execution_count": 109,
   "metadata": {},
   "outputs": [],
   "source": [
    "generator_input = Input(shape=(num_steps,1))\n",
    "\n",
    "x = LSTM(feature_dim, return_sequences=True)(generator_input)\n",
    "x = LSTM(feature_dim, return_sequences=True)(x)\n",
    "x = LSTM(feature_dim, return_sequences=True)(x)\n",
    "x = LSTM(feature_dim, return_sequences=True)(x)\n",
    "x = LSTM(feature_dim, return_sequences=True)(x)\n",
    "\n",
    "generator = Model(generator_input, x)"
   ]
  },
  {
   "cell_type": "markdown",
   "metadata": {},
   "source": [
    "### Discriminator"
   ]
  },
  {
   "cell_type": "code",
   "execution_count": 141,
   "metadata": {},
   "outputs": [],
   "source": [
    "discriminator_input = Input(shape=(num_steps,feature_dim))\n",
    "\n",
    "x = LSTM(feature_dim)(discriminator_input) \n",
    "#x = LSTM(hidden_size, return_state=True)(x)\n",
    "x = Dense(1, activation='sigmoid')(x)\n",
    "\n",
    "discriminator = Model(discriminator_input, x)\n",
    "\n",
    "discriminator_optimizer = RMSprop(lr=0.0008, clipvalue=1.0) #decay=1e-8\n",
    "discriminator.compile(optimizer=discriminator_optimizer, loss='binary_crossentropy')"
   ]
  },
  {
   "cell_type": "markdown",
   "metadata": {},
   "source": [
    "### GAN Framework"
   ]
  },
  {
   "cell_type": "code",
   "execution_count": 142,
   "metadata": {},
   "outputs": [],
   "source": [
    "from keras import backend\n",
    "\n",
    "# Set discriminator weights to non-trainable\n",
    "# (will only apply to the `gan` model)\n",
    "discriminator.trainable = False\n",
    "\n",
    "gan_input = Input(shape=(num_steps,1))\n",
    "gen_output = generator(gan_input)\n",
    "gan_output = discriminator(gen_output)\n",
    "gan = Model(gan_input, gan_output)\n",
    "\n",
    "gan_optimizer = RMSprop(lr=0.0004, clipvalue=1.0) #decay=1e-8\n",
    "gan.compile(optimizer=gan_optimizer, loss='binary_crossentropy')"
   ]
  },
  {
   "cell_type": "markdown",
   "metadata": {},
   "source": [
    "### Training Steps"
   ]
  },
  {
   "cell_type": "code",
   "execution_count": 143,
   "metadata": {},
   "outputs": [
    {
     "name": "stderr",
     "output_type": "stream",
     "text": [
      "/Users/samburtch/anaconda3/lib/python3.6/site-packages/keras/engine/training.py:479: UserWarning: Discrepancy between trainable weights and collected trainable weights, did you set `model.trainable` without calling `model.compile` after ?\n",
      "  'Discrepancy between trainable weights and collected trainable'\n"
     ]
    },
    {
     "name": "stdout",
     "output_type": "stream",
     "text": [
      "discriminator loss at step 0: 0.70852846\n",
      "generator loss at step 0: 0.72943246\n",
      "discriminator loss at step 10: 0.71761906\n",
      "generator loss at step 10: 0.70638055\n",
      "discriminator loss at step 20: 0.69417316\n",
      "generator loss at step 20: 0.7626901\n",
      "discriminator loss at step 30: 0.6935716\n",
      "generator loss at step 30: 0.7587362\n",
      "discriminator loss at step 40: 0.6922344\n",
      "generator loss at step 40: 0.75392604\n",
      "discriminator loss at step 50: 0.6966273\n",
      "generator loss at step 50: 0.7412652\n",
      "discriminator loss at step 60: 0.69162405\n",
      "generator loss at step 60: 0.75158226\n",
      "discriminator loss at step 70: 0.70361173\n",
      "generator loss at step 70: 0.74371576\n",
      "discriminator loss at step 80: 0.6976071\n",
      "generator loss at step 80: 0.74270636\n",
      "discriminator loss at step 90: 0.69020694\n",
      "generator loss at step 90: 0.7504863\n",
      "discriminator loss at step 100: 0.6965728\n",
      "generator loss at step 100: 0.7373526\n",
      "discriminator loss at step 110: 0.6895156\n",
      "generator loss at step 110: 0.7491652\n",
      "discriminator loss at step 120: 0.6934711\n",
      "generator loss at step 120: 0.74825823\n",
      "discriminator loss at step 130: 0.692915\n",
      "generator loss at step 130: 0.7517706\n",
      "discriminator loss at step 140: 0.6962709\n",
      "generator loss at step 140: 0.8139666\n"
     ]
    }
   ],
   "source": [
    "iterations = 1000\n",
    "batch_size = 5\n",
    "\n",
    "# Start training loop\n",
    "start = 0\n",
    "# Track Losses\n",
    "d_losses = []\n",
    "g_losses = []\n",
    "for step in range(iterations):\n",
    "    # Sample random points in the latent space\n",
    "    random_latent_vectors = np.random.normal(size=(batch_size,num_steps, 1))\n",
    "\n",
    "    # Decode them to fake poems\n",
    "    generated_poems = generator.predict(random_latent_vectors)\n",
    "\n",
    "    # Combine them with real poems\n",
    "    stop = start + batch_size\n",
    "    real_poems = x_train[start: stop]\n",
    "    combined_poems = np.concatenate([generated_poems, real_poems])\n",
    "\n",
    "    # Assemble labels discriminating real from fake poems\n",
    "    labels = np.concatenate([np.ones((batch_size, 1)),\n",
    "                             np.zeros((batch_size, 1))])\n",
    "    # Add random noise to the labels - important trick!\n",
    "    labels += 0.05 * np.random.random(labels.shape)\n",
    "\n",
    "    # Train the discriminator\n",
    "    d_loss = discriminator.train_on_batch(combined_poems, labels)\n",
    "    d_losses.append(d_loss)\n",
    "    \n",
    "    # sample random points in the latent space\n",
    "    random_latent_vectors = np.random.normal(size=(batch_size**2, num_steps, 1))\n",
    "\n",
    "    # Assemble labels that say \"all real poems\"\n",
    "    misleading_targets = np.zeros((batch_size**2, 1))\n",
    "\n",
    "    # Train the generator (via the gan model,\n",
    "    # where the discriminator weights are frozen)\n",
    "    g_loss = gan.train_on_batch(random_latent_vectors, misleading_targets)\n",
    "    g_losses.append(g_loss)\n",
    "    \n",
    "    start += batch_size\n",
    "    if start > len(x_train) - batch_size:\n",
    "        start = 0\n",
    "    \n",
    "    if step % 10 == 0:\n",
    "        # Save model weights\n",
    "        gan.save_weights('gan.h5')\n",
    "\n",
    "        # Print metrics\n",
    "        print('discriminator loss at step %s: %s' % (step, d_loss))\n",
    "        print('generator loss at step %s: %s' % (step, g_loss))\n",
    "        \n",
    "    if g_loss > .8:\n",
    "        break"
   ]
  },
  {
   "cell_type": "code",
   "execution_count": 146,
   "metadata": {},
   "outputs": [
    {
     "data": {
      "text/plain": [
       "<matplotlib.legend.Legend at 0xb5e05e5f8>"
      ]
     },
     "execution_count": 146,
     "metadata": {},
     "output_type": "execute_result"
    },
    {
     "data": {
      "image/png": "[encoded data removed]",
      "text/plain": [
       "<Figure size 432x288 with 1 Axes>"
      ]
     },
     "metadata": {},
     "output_type": "display_data"
    }
   ],
   "source": [
    "import matplotlib.pyplot as plt\n",
    "%matplotlib inline\n",
    "plt.plot(g_losses)\n",
    "plt.plot(d_losses)\n",
    "plt.legend(['Gen_loss','Disc_loss'])"
   ]
  },
  {
   "cell_type": "code",
   "execution_count": 147,
   "metadata": {},
   "outputs": [],
   "source": [
    "random_latent_vector = np.random.normal(size=(1,num_steps, 1))\n",
    "\n",
    "# Decode them to fake poems\n",
    "generated_poem = generator.predict(random_latent_vector)"
   ]
  },
  {
   "cell_type": "code",
   "execution_count": 148,
   "metadata": {},
   "outputs": [
    {
     "data": {
      "text/plain": [
       "array([[-2.26085773e-03,  1.19121664e-03,  8.51081917e-04, ...,\n",
       "        -2.50620139e-03, -7.53377564e-04, -4.71913285e-04],\n",
       "       [-4.16126987e-03,  1.40359974e-03,  9.19215672e-04, ...,\n",
       "        -4.91611846e-03, -4.04187776e-05, -4.25234117e-04],\n",
       "       [-5.79770934e-03,  8.42533831e-04,  5.22524351e-04, ...,\n",
       "        -7.36912573e-03,  1.38233718e-03, -1.46849532e-04],\n",
       "       ...,\n",
       "       [-8.79692510e-02,  2.85432842e-02, -6.84528574e-02, ...,\n",
       "        -1.10037252e-01, -1.97852105e-02,  2.48561930e-02],\n",
       "       [-8.80861878e-02,  2.83576846e-02, -6.84853420e-02, ...,\n",
       "        -1.10138282e-01, -1.97002850e-02,  2.45812573e-02],\n",
       "       [-8.81982520e-02,  2.83221807e-02, -6.84327930e-02, ...,\n",
       "        -1.10284895e-01, -1.96048226e-02,  2.43509728e-02]], dtype=float32)"
      ]
     },
     "execution_count": 148,
     "metadata": {},
     "output_type": "execute_result"
    }
   ],
   "source": [
    "generated_poem.reshape(177,50)"
   ]
  },
  {
   "cell_type": "code",
   "execution_count": 149,
   "metadata": {},
   "outputs": [],
   "source": [
    "import math\n",
    "poem = []\n",
    "for word in generated_poem[0]:\n",
    "    num = 0\n",
    "    dist = math.inf\n",
    "    for ind, vec in enumerate(embedding_matrix[1:]):\n",
    "        temp = np.linalg.norm(vec-word)\n",
    "        if temp < dist:\n",
    "            dist = temp\n",
    "            num = ind\n",
    "    if num != 0:\n",
    "        poem.append(dist)  \n",
    "    else:\n",
    "        poem.append(' ')\n",
    "        \n"
   ]
  },
  {
   "cell_type": "markdown",
   "metadata": {},
   "source": [
    "The eucliean distance at each step apears to gradually increase, suggesting that the network was fairly decent at the earlier stages of the poem but got increasingly more difficult to predict the next word as the poem progressed. "
   ]
  },
  {
   "cell_type": "code",
   "execution_count": 152,
   "metadata": {},
   "outputs": [
    {
     "data": {
      "text/plain": [
       "<matplotlib.legend.Legend at 0xb5e07a4a8>"
      ]
     },
     "execution_count": 152,
     "metadata": {},
     "output_type": "execute_result"
    },
    {
     "data": {
      "image/png": "[encoded data removed]",
      "text/plain": [
       "<Figure size 432x288 with 1 Axes>"
      ]
     },
     "metadata": {},
     "output_type": "display_data"
    }
   ],
   "source": [
    "plt.plot(poem)\n",
    "plt.legend(['Distance from word'])"
   ]
  }
 ],
 "metadata": {
  "kernelspec": {
   "display_name": "Python 3",
   "language": "python",
   "name": "python3"
  },
  "language_info": {
   "codemirror_mode": {
    "name": "ipython",
    "version": 3
   },
   "file_extension": ".py",
   "mimetype": "text/x-python",
   "name": "python",
   "nbconvert_exporter": "python",
   "pygments_lexer": "ipython3",
   "version": "3.6.5"
  }
 },
 "nbformat": 4,
 "nbformat_minor": 2
}
