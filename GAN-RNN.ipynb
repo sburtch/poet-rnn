{
 "cells": [
  {
   "cell_type": "markdown",
   "metadata": {},
   "source": [
    "Objective:\n",
    "My objevtive for the machine learning project is to create a Recurrent Neural Network (RNN) that can generate (somewhat) legible poetry based on a collection of poems with a GAN external network to optimize the RNN potential. To do so, I will take a kaggle dataset with 500+ poems written from the reniassance and modern era of poetry to be used as the 'real' data for the discriminator.\n",
    "\n",
    "Tools:\n",
    "Libraries include pandas, numpy, keras.preprocessing for tokenizer (discussed below), GloVe dictionary (below), and keras.layers/models and the like for neural network model architecture and execution. \n",
    "\n",
    "Various hygiene methods are required to standardize each poem into the same length, as well as adding padding for poems less in length. Instead of feeding in actual words, I will encode each word into a tokenizer, so integers are fed into the network rather than words. Further, to better contend with writing legible poetry, I use feature engineering from https://nlp.stanford.edu/projects/glove/ to encode words to higher dimensional space. Words with similar meaning should have a similar vector space, for example. \n",
    "\n",
    "Both the generator and discriminator have RNN structures, including one LSTM layer to predict the next word based on the series of words prior in sequence. The discriminator will take samples from our real poems and full generated poems to try and classify real from fake. \n",
    "\n",
    "\n",
    "link to data : https://www.kaggle.com/ishnoor/poetry-analysis-with-machine-learning\n",
    "\n",
    "References: some hygiene steps came from https://www.kaggle.com/hsankesara/mr-poet and some GAN framework coding came from https://github.com/fchollet/deep-learning-with-python-notebooks/blob/master/8.5-introduction-to-gans.ipynb"
   ]
  },
  {
   "cell_type": "code",
   "execution_count": 1,
   "metadata": {},
   "outputs": [],
   "source": [
    "import pandas as pd\n",
    "import numpy as np\n",
    "\n",
    "poems = pd.read_csv(\"all.csv\")"
   ]
  },
  {
   "cell_type": "markdown",
   "metadata": {},
   "source": [
    "#### Adding character length column"
   ]
  },
  {
   "cell_type": "code",
   "execution_count": 2,
   "metadata": {},
   "outputs": [
    {
     "name": "stderr",
     "output_type": "stream",
     "text": [
      "/Users/samburtch/anaconda3/lib/python3.6/site-packages/ipykernel_launcher.py:3: SettingWithCopyWarning: \n",
      "A value is trying to be set on a copy of a slice from a DataFrame\n",
      "\n",
      "See the caveats in the documentation: http://pandas.pydata.org/pandas-docs/stable/indexing.html#indexing-view-versus-copy\n",
      "  This is separate from the ipykernel package so we can avoid doing imports until\n"
     ]
    }
   ],
   "source": [
    "poems['length'] = 0\n",
    "for i in range(len(poems)):\n",
    "    poems['length'][i] = len(poems['content'][i])"
   ]
  },
  {
   "cell_type": "markdown",
   "metadata": {},
   "source": [
    "### Clean data by deleting null entries and non-poems"
   ]
  },
  {
   "cell_type": "code",
   "execution_count": 3,
   "metadata": {
    "scrolled": true
   },
   "outputs": [
    {
     "name": "stdout",
     "output_type": "stream",
     "text": [
      "552\n",
      "536\n",
      "518\n",
      "465\n"
     ]
    }
   ],
   "source": [
    "poems = poems.sort_values(by='length') #Sort by length of poem\n",
    "poems = poems[14:len(poems)-5] # Delete tails on both sides\n",
    "poems = poems[poems['content'].str.contains('Published')==False]# Eliminate non-poems with 'Published'\n",
    "print(len(poems))\n",
    "poems = poems[poems['content'].str.contains('from Selected Poems')==False]# Eliminate non-poems with 'from Selected Poems'\n",
    "print(len(poems))\n",
    "poems = poems[poems['content'].str.contains('Collected Poems')==False]# Eliminate non-poems with 'from Collected Poems'\n",
    "print(len(poems))\n",
    "#Eliminate where poem is just intro\n",
    "for ind, row in poems.iterrows():\n",
    "    if row['author'] in row['content'].upper() or str(row['poem name']) in row['content'][:40]:\n",
    "        poems = poems.drop([ind])\n",
    "print(len(poems))"
   ]
  },
  {
   "cell_type": "markdown",
   "metadata": {},
   "source": [
    "### Hygiene: only poems between 100 & 1000 in character length"
   ]
  },
  {
   "cell_type": "code",
   "execution_count": 4,
   "metadata": {},
   "outputs": [],
   "source": [
    "num_poems = len(poems)\n",
    "poem = poems['content'][:num_poems]\n",
    "poem = poem[poems['length'] > 100]\n",
    "poem = poem[poems['length'] < 1000]\n",
    "poem = poem.reset_index(drop=True)\n",
    "X = poem\n",
    "num_poems = len(poem)"
   ]
  },
  {
   "cell_type": "markdown",
   "metadata": {},
   "source": [
    "### Create vocab size and word dictionary"
   ]
  },
  {
   "cell_type": "code",
   "execution_count": 5,
   "metadata": {},
   "outputs": [],
   "source": [
    "temp = ''\n",
    "for i in range(num_poems):\n",
    "    temp += poem[i] + ' '\n",
    "poem = temp\n",
    "\n",
    "import re\n",
    "#poem = re.sub(' +',' ',poem)\n",
    "poem = poem.lower()\n",
    "poem = re.findall(r'[\\w]+|[\\'!\"#$%&()*+,-./:;<=>?@[\\]^_`{|}~]',poem)\n",
    "words = list(set(poem))\n",
    "vocab_size = len(words)\n",
    "#print(vocab_size)\n"
   ]
  },
  {
   "cell_type": "code",
   "execution_count": 6,
   "metadata": {},
   "outputs": [
    {
     "name": "stdout",
     "output_type": "stream",
     "text": [
      "count                                                   349\n",
      "unique                                                  311\n",
      "top       When I was fair and young, then favor graced m...\n",
      "freq                                                      3\n",
      "Name: content, dtype: object\n"
     ]
    }
   ],
   "source": [
    "print(X.describe())"
   ]
  },
  {
   "cell_type": "code",
   "execution_count": 7,
   "metadata": {},
   "outputs": [
    {
     "data": {
      "text/plain": [
       "'The fog comes\\r\\non little cat feet.\\r\\n\\r\\nIt sits looking\\r\\nover harbor and city\\r\\non silent haunches\\r\\nand then moves on.'"
      ]
     },
     "execution_count": 7,
     "metadata": {},
     "output_type": "execute_result"
    }
   ],
   "source": [
    "X[0]"
   ]
  },
  {
   "cell_type": "code",
   "execution_count": 8,
   "metadata": {},
   "outputs": [],
   "source": [
    "for i in range(len(X)):\n",
    "    X[i] = X[i].replace(\"\\r\\n\",\" \")  "
   ]
  },
  {
   "cell_type": "markdown",
   "metadata": {},
   "source": [
    "### Feature Engineering: Convert words to integers (tokenizer)  "
   ]
  },
  {
   "cell_type": "code",
   "execution_count": 9,
   "metadata": {},
   "outputs": [
    {
     "name": "stderr",
     "output_type": "stream",
     "text": [
      "/Users/samburtch/anaconda3/lib/python3.6/site-packages/h5py/__init__.py:36: FutureWarning: Conversion of the second argument of issubdtype from `float` to `np.floating` is deprecated. In future, it will be treated as `np.float64 == np.dtype(float).type`.\n",
      "  from ._conv import register_converters as _register_converters\n",
      "Using TensorFlow backend.\n"
     ]
    }
   ],
   "source": [
    "from keras.preprocessing.text import  Tokenizer\n",
    "from keras.preprocessing.sequence import pad_sequences"
   ]
  },
  {
   "cell_type": "code",
   "execution_count": 10,
   "metadata": {},
   "outputs": [],
   "source": [
    "tokenizer = Tokenizer( num_words=vocab_size)"
   ]
  },
  {
   "cell_type": "code",
   "execution_count": 11,
   "metadata": {},
   "outputs": [],
   "source": [
    "tokenizer.fit_on_texts(X)"
   ]
  },
  {
   "cell_type": "code",
   "execution_count": 12,
   "metadata": {},
   "outputs": [],
   "source": [
    "text = tokenizer.texts_to_sequences(X)\n",
    "maxlen = 0\n",
    "for i in text:\n",
    "    if len(i) > maxlen:\n",
    "        maxlen = len(i)\n",
    "text = pad_sequences(text, maxlen=maxlen, padding='post')"
   ]
  },
  {
   "cell_type": "code",
   "execution_count": 13,
   "metadata": {},
   "outputs": [],
   "source": [
    "word_dict = tokenizer.word_index"
   ]
  },
  {
   "cell_type": "code",
   "execution_count": 14,
   "metadata": {},
   "outputs": [],
   "source": [
    "maxwords = len(word_dict)"
   ]
  },
  {
   "cell_type": "markdown",
   "metadata": {},
   "source": [
    "### Map words to 50-dim vector (embedding_matrix)"
   ]
  },
  {
   "cell_type": "code",
   "execution_count": 15,
   "metadata": {},
   "outputs": [],
   "source": [
    "embedding_matrix = np.zeros((maxwords+1,50))"
   ]
  },
  {
   "cell_type": "code",
   "execution_count": 16,
   "metadata": {},
   "outputs": [],
   "source": [
    "with open('glove.6B.50d.txt') as f:\n",
    "    for line in f:\n",
    "        l = line.split()\n",
    "        if l[0] in word_dict:\n",
    "            indx = word_dict[l[0]]\n",
    "            for i in range(50):\n",
    "                embedding_matrix[indx][i] = l[i+1]"
   ]
  },
  {
   "cell_type": "markdown",
   "metadata": {},
   "source": [
    "### Create 349 x 177 x 50 X_train matrix"
   ]
  },
  {
   "cell_type": "code",
   "execution_count": 17,
   "metadata": {},
   "outputs": [],
   "source": [
    "x_train = np.zeros((349,177,50),dtype='float32')\n",
    "for indp, poem in enumerate(text):\n",
    "    for indw, word in enumerate(poem):\n",
    "        x_train[indp,indw,:] = embedding_matrix[word]"
   ]
  },
  {
   "attachments": {},
   "cell_type": "markdown",
   "metadata": {},
   "source": [
    "## Network \n",
    "<img src=\"gan.png\">\n",
    "GAN networks are two separate networks playing against each other. The Generator gets random noise and creates output, attempting to try and fool the discriminator into thinking the generated output is real data, poems in our case. The discriminators only job is to decide if the input was real or fake."
   ]
  },
  {
   "cell_type": "code",
   "execution_count": 18,
   "metadata": {
    "scrolled": false
   },
   "outputs": [],
   "source": [
    "from keras.models import Sequential, Model\n",
    "from keras.layers import LSTM, Dense, Input\n",
    "from keras.optimizers import RMSprop\n",
    "\n",
    "\n",
    "num_steps = 177\n",
    "#hidden_size = 350\n",
    "feature_dim = 50"
   ]
  },
  {
   "cell_type": "markdown",
   "metadata": {},
   "source": [
    "### Generator"
   ]
  },
  {
   "cell_type": "code",
   "execution_count": 19,
   "metadata": {},
   "outputs": [],
   "source": [
    "generator_input = Input(shape=(num_steps,1))\n",
    "\n",
    "x = LSTM(feature_dim, return_sequences=True, recurrent_dropout=0.2)(generator_input)\n",
    "x = LSTM(feature_dim, return_sequences=True, recurrent_dropout=0.2)(x)\n",
    "generator = Model(generator_input, x)"
   ]
  },
  {
   "cell_type": "markdown",
   "metadata": {},
   "source": [
    "### Discriminator"
   ]
  },
  {
   "cell_type": "code",
   "execution_count": 20,
   "metadata": {},
   "outputs": [],
   "source": [
    "discriminator_input = Input(shape=(num_steps,feature_dim))\n",
    "\n",
    "x = LSTM(feature_dim, return_sequences=True, recurrent_dropout=0.2)(discriminator_input) #return_sequences=True,\n",
    "x = LSTM(feature_dim, recurrent_dropout=0.2)(x)\n",
    "x = Dense(1, activation='sigmoid')(x)\n",
    "\n",
    "discriminator = Model(discriminator_input, x)\n",
    "\n",
    "discriminator_optimizer = RMSprop(lr=0.0001, clipvalue=1.0) #decay=1e-8\n",
    "discriminator.compile(optimizer=discriminator_optimizer, loss='binary_crossentropy')"
   ]
  },
  {
   "cell_type": "markdown",
   "metadata": {},
   "source": [
    "### GAN Framework"
   ]
  },
  {
   "cell_type": "code",
   "execution_count": 21,
   "metadata": {},
   "outputs": [],
   "source": [
    "from keras import backend\n",
    "\n",
    "# Set discriminator weights to non-trainable\n",
    "# (will only apply to the `gan` model)\n",
    "discriminator.trainable = False\n",
    "\n",
    "gan_input = Input(shape=(num_steps,1))\n",
    "gen_output = generator(gan_input)\n",
    "gan_output = discriminator(gen_output)\n",
    "gan = Model(gan_input, gan_output)\n",
    "\n",
    "gan_optimizer = RMSprop(lr=0.001, clipvalue=1.0) #decay=1e-8\n",
    "gan.compile(optimizer=gan_optimizer, loss='binary_crossentropy')"
   ]
  },
  {
   "cell_type": "markdown",
   "metadata": {},
   "source": [
    "### Training Steps"
   ]
  },
  {
   "cell_type": "code",
   "execution_count": 22,
   "metadata": {
    "scrolled": true
   },
   "outputs": [
    {
     "name": "stderr",
     "output_type": "stream",
     "text": [
      "/Users/samburtch/anaconda3/lib/python3.6/site-packages/keras/engine/training.py:479: UserWarning: Discrepancy between trainable weights and collected trainable weights, did you set `model.trainable` without calling `model.compile` after ?\n",
      "  'Discrepancy between trainable weights and collected trainable'\n"
     ]
    },
    {
     "name": "stdout",
     "output_type": "stream",
     "text": [
      "discriminator loss at step 0: 0.6920873\n",
      "generator loss at step 0: 0.6966387\n",
      "discriminator loss at step 10: 0.8458086\n",
      "generator loss at step 10: 0.48831588\n",
      "discriminator loss at step 20: 0.84898806\n",
      "generator loss at step 20: 0.47552508\n",
      "discriminator loss at step 30: 0.80207574\n",
      "generator loss at step 30: 0.5421148\n",
      "discriminator loss at step 40: 0.7531474\n",
      "generator loss at step 40: 0.60654247\n",
      "discriminator loss at step 50: 0.74729776\n",
      "generator loss at step 50: 0.6333684\n",
      "discriminator loss at step 60: 0.7485031\n",
      "generator loss at step 60: 0.60230625\n",
      "discriminator loss at step 70: 0.78724843\n",
      "generator loss at step 70: 0.56337565\n",
      "discriminator loss at step 80: 0.77708435\n",
      "generator loss at step 80: 0.5739377\n",
      "discriminator loss at step 90: 0.7511819\n",
      "generator loss at step 90: 0.62389386\n",
      "discriminator loss at step 100: 0.6987225\n",
      "generator loss at step 100: 0.6850028\n",
      "discriminator loss at step 110: 0.6954695\n",
      "generator loss at step 110: 0.7050105\n",
      "discriminator loss at step 120: 0.7308098\n",
      "generator loss at step 120: 0.670498\n",
      "discriminator loss at step 130: 0.7243434\n",
      "generator loss at step 130: 0.6753004\n",
      "discriminator loss at step 140: 0.69192183\n",
      "generator loss at step 140: 0.7401371\n",
      "discriminator loss at step 150: 0.6815978\n",
      "generator loss at step 150: 0.7256683\n",
      "discriminator loss at step 160: 0.71499443\n",
      "generator loss at step 160: 0.6743074\n",
      "discriminator loss at step 170: 0.717829\n",
      "generator loss at step 170: 0.6599679\n",
      "discriminator loss at step 180: 0.7465525\n",
      "generator loss at step 180: 0.6298836\n",
      "discriminator loss at step 190: 0.73666924\n",
      "generator loss at step 190: 0.63014996\n",
      "discriminator loss at step 200: 0.7318703\n",
      "generator loss at step 200: 0.66413814\n",
      "discriminator loss at step 210: 0.7190157\n",
      "generator loss at step 210: 0.6577157\n",
      "discriminator loss at step 220: 0.6983007\n",
      "generator loss at step 220: 0.68208927\n",
      "discriminator loss at step 230: 0.6837403\n",
      "generator loss at step 230: 0.71785134\n",
      "discriminator loss at step 240: 0.73889816\n",
      "generator loss at step 240: 0.6845989\n",
      "discriminator loss at step 250: 0.72495264\n",
      "generator loss at step 250: 0.681005\n",
      "discriminator loss at step 260: 0.6757639\n",
      "generator loss at step 260: 0.727555\n",
      "discriminator loss at step 270: 0.67270005\n",
      "generator loss at step 270: 0.74727684\n",
      "discriminator loss at step 280: 0.6635639\n",
      "generator loss at step 280: 0.7703389\n",
      "discriminator loss at step 290: 0.64085543\n",
      "generator loss at step 290: 0.81827176\n",
      "discriminator loss at step 300: 0.62336075\n",
      "generator loss at step 300: 0.84875363\n",
      "discriminator loss at step 310: 0.6535796\n",
      "generator loss at step 310: 0.79215366\n",
      "discriminator loss at step 320: 0.69367987\n",
      "generator loss at step 320: 0.741618\n",
      "discriminator loss at step 330: 0.72322977\n",
      "generator loss at step 330: 0.65271413\n",
      "discriminator loss at step 340: 0.710327\n",
      "generator loss at step 340: 0.66574574\n",
      "discriminator loss at step 350: 0.71565104\n",
      "generator loss at step 350: 0.6584896\n",
      "discriminator loss at step 360: 0.6641943\n",
      "generator loss at step 360: 0.7263491\n",
      "discriminator loss at step 370: 0.65998286\n",
      "generator loss at step 370: 0.7708156\n",
      "discriminator loss at step 380: 0.6692912\n",
      "generator loss at step 380: 0.7554871\n",
      "discriminator loss at step 390: 0.7069189\n",
      "generator loss at step 390: 0.65857244\n",
      "discriminator loss at step 400: 0.7380713\n",
      "generator loss at step 400: 0.6184586\n",
      "discriminator loss at step 410: 0.756754\n",
      "generator loss at step 410: 0.60712385\n",
      "discriminator loss at step 420: 0.7295871\n",
      "generator loss at step 420: 0.64156353\n",
      "discriminator loss at step 430: 0.7268863\n",
      "generator loss at step 430: 0.6689848\n",
      "discriminator loss at step 440: 0.7153735\n",
      "generator loss at step 440: 0.66884005\n",
      "discriminator loss at step 450: 0.71518594\n",
      "generator loss at step 450: 0.66661954\n",
      "discriminator loss at step 460: 0.7231058\n",
      "generator loss at step 460: 0.66839284\n",
      "discriminator loss at step 470: 0.70622194\n",
      "generator loss at step 470: 0.69594896\n",
      "discriminator loss at step 480: 0.6954644\n",
      "generator loss at step 480: 0.6918655\n",
      "discriminator loss at step 490: 0.71211386\n",
      "generator loss at step 490: 0.69899124\n",
      "discriminator loss at step 500: 0.69495595\n",
      "generator loss at step 500: 0.7155488\n",
      "discriminator loss at step 510: 0.6978122\n",
      "generator loss at step 510: 0.70337236\n",
      "discriminator loss at step 520: 0.70018214\n",
      "generator loss at step 520: 0.7147841\n",
      "discriminator loss at step 530: 0.6995181\n",
      "generator loss at step 530: 0.70922947\n",
      "discriminator loss at step 540: 0.6900774\n",
      "generator loss at step 540: 0.7359577\n",
      "discriminator loss at step 550: 0.6972333\n",
      "generator loss at step 550: 0.7124151\n",
      "discriminator loss at step 560: 0.7034298\n",
      "generator loss at step 560: 0.7091618\n",
      "discriminator loss at step 570: 0.68329227\n",
      "generator loss at step 570: 0.7322031\n",
      "discriminator loss at step 580: 0.6608052\n",
      "generator loss at step 580: 0.781029\n",
      "discriminator loss at step 590: 0.6640688\n",
      "generator loss at step 590: 0.8304895\n",
      "discriminator loss at step 600: 0.6523476\n",
      "generator loss at step 600: 0.7968799\n",
      "discriminator loss at step 610: 0.6721072\n",
      "generator loss at step 610: 0.7550144\n",
      "discriminator loss at step 620: 0.728665\n",
      "generator loss at step 620: 0.6805489\n",
      "discriminator loss at step 630: 0.7136364\n",
      "generator loss at step 630: 0.6785904\n",
      "discriminator loss at step 640: 0.69398326\n",
      "generator loss at step 640: 0.69169396\n",
      "discriminator loss at step 650: 0.6880811\n",
      "generator loss at step 650: 0.7141711\n",
      "discriminator loss at step 660: 0.6715065\n",
      "generator loss at step 660: 0.7499835\n",
      "discriminator loss at step 670: 0.64685774\n",
      "generator loss at step 670: 0.80935687\n",
      "discriminator loss at step 680: 0.66519564\n",
      "generator loss at step 680: 0.7486839\n",
      "discriminator loss at step 690: 0.6920849\n",
      "generator loss at step 690: 0.7101717\n",
      "discriminator loss at step 700: 0.6815793\n",
      "generator loss at step 700: 0.7238455\n",
      "discriminator loss at step 710: 0.67519534\n",
      "generator loss at step 710: 0.7538961\n",
      "discriminator loss at step 720: 0.6545771\n",
      "generator loss at step 720: 0.77271813\n",
      "discriminator loss at step 730: 0.65494776\n",
      "generator loss at step 730: 0.770951\n",
      "discriminator loss at step 740: 0.7193735\n",
      "generator loss at step 740: 0.6526971\n",
      "discriminator loss at step 750: 0.7136797\n",
      "generator loss at step 750: 0.6583302\n",
      "discriminator loss at step 760: 0.71025676\n",
      "generator loss at step 760: 0.6968862\n",
      "discriminator loss at step 770: 0.6912476\n",
      "generator loss at step 770: 0.7030231\n",
      "discriminator loss at step 780: 0.696242\n",
      "generator loss at step 780: 0.70992774\n",
      "discriminator loss at step 790: 0.6873652\n",
      "generator loss at step 790: 0.7165785\n",
      "discriminator loss at step 800: 0.6916429\n",
      "generator loss at step 800: 0.7204665\n",
      "discriminator loss at step 810: 0.6933201\n",
      "generator loss at step 810: 0.7227895\n",
      "discriminator loss at step 820: 0.6959629\n",
      "generator loss at step 820: 0.7275365\n",
      "discriminator loss at step 830: 0.6935226\n",
      "generator loss at step 830: 0.73050857\n",
      "discriminator loss at step 840: 0.69319654\n",
      "generator loss at step 840: 0.72517484\n",
      "discriminator loss at step 850: 0.69108605\n",
      "generator loss at step 850: 0.72985\n",
      "discriminator loss at step 860: 0.6891015\n",
      "generator loss at step 860: 0.72374785\n",
      "discriminator loss at step 870: 0.6934886\n",
      "generator loss at step 870: 0.7366106\n",
      "discriminator loss at step 880: 0.6915515\n",
      "generator loss at step 880: 0.72901124\n",
      "discriminator loss at step 890: 0.6889521\n",
      "generator loss at step 890: 0.73745716\n",
      "discriminator loss at step 900: 0.6931385\n",
      "generator loss at step 900: 0.7341988\n",
      "discriminator loss at step 910: 0.68827534\n",
      "generator loss at step 910: 0.73284566\n",
      "discriminator loss at step 920: 0.6905186\n",
      "generator loss at step 920: 0.73946726\n",
      "discriminator loss at step 930: 0.6956888\n",
      "generator loss at step 930: 0.7378247\n",
      "discriminator loss at step 940: 0.6896895\n",
      "generator loss at step 940: 0.7426189\n",
      "discriminator loss at step 950: 0.6931423\n",
      "generator loss at step 950: 0.73904073\n",
      "discriminator loss at step 960: 0.6925386\n",
      "generator loss at step 960: 0.73949313\n",
      "discriminator loss at step 970: 0.6943449\n",
      "generator loss at step 970: 0.74061\n",
      "discriminator loss at step 980: 0.68834955\n",
      "generator loss at step 980: 0.7457433\n",
      "discriminator loss at step 990: 0.68593913\n",
      "generator loss at step 990: 0.74678075\n",
      "discriminator loss at step 1000: 0.6933951\n",
      "generator loss at step 1000: 0.7421157\n",
      "discriminator loss at step 1010: 0.6924946\n",
      "generator loss at step 1010: 0.74247396\n"
     ]
    },
    {
     "name": "stdout",
     "output_type": "stream",
     "text": [
      "discriminator loss at step 1020: 0.6948181\n",
      "generator loss at step 1020: 0.7397195\n",
      "discriminator loss at step 1030: 0.688212\n",
      "generator loss at step 1030: 0.743137\n",
      "discriminator loss at step 1040: 0.6941956\n",
      "generator loss at step 1040: 0.74120843\n",
      "discriminator loss at step 1050: 0.690996\n",
      "generator loss at step 1050: 0.73967105\n",
      "discriminator loss at step 1060: 0.6939238\n",
      "generator loss at step 1060: 0.737608\n",
      "discriminator loss at step 1070: 0.6950324\n",
      "generator loss at step 1070: 0.7433268\n",
      "discriminator loss at step 1080: 0.6946225\n",
      "generator loss at step 1080: 0.74216473\n",
      "discriminator loss at step 1090: 0.6896813\n",
      "generator loss at step 1090: 0.7444212\n",
      "discriminator loss at step 1100: 0.6792675\n",
      "generator loss at step 1100: 0.7422532\n",
      "discriminator loss at step 1110: 0.6973547\n",
      "generator loss at step 1110: 0.74047697\n",
      "discriminator loss at step 1120: 0.69042313\n",
      "generator loss at step 1120: 0.7405403\n",
      "discriminator loss at step 1130: 0.6918121\n",
      "generator loss at step 1130: 0.7438568\n",
      "discriminator loss at step 1140: 0.6894271\n",
      "generator loss at step 1140: 0.74592555\n",
      "discriminator loss at step 1150: 0.6906905\n",
      "generator loss at step 1150: 0.7381676\n",
      "discriminator loss at step 1160: 0.6882469\n",
      "generator loss at step 1160: 0.74407244\n",
      "discriminator loss at step 1170: 0.6707139\n",
      "generator loss at step 1170: 0.74643964\n",
      "discriminator loss at step 1180: 0.6987689\n",
      "generator loss at step 1180: 0.74391615\n",
      "discriminator loss at step 1190: 0.69201547\n",
      "generator loss at step 1190: 0.74612635\n",
      "discriminator loss at step 1200: 0.6962737\n",
      "generator loss at step 1200: 0.73642695\n",
      "discriminator loss at step 1210: 0.6932429\n",
      "generator loss at step 1210: 0.73835385\n",
      "discriminator loss at step 1220: 0.68992984\n",
      "generator loss at step 1220: 0.74486446\n",
      "discriminator loss at step 1230: 0.6938699\n",
      "generator loss at step 1230: 0.74220127\n",
      "discriminator loss at step 1240: 0.6674536\n",
      "generator loss at step 1240: 0.7461093\n",
      "discriminator loss at step 1250: 0.68700296\n",
      "generator loss at step 1250: 0.7394856\n",
      "discriminator loss at step 1260: 0.695097\n",
      "generator loss at step 1260: 0.7433793\n",
      "discriminator loss at step 1270: 0.6954552\n",
      "generator loss at step 1270: 0.74405736\n",
      "discriminator loss at step 1280: 0.6907182\n",
      "generator loss at step 1280: 0.7418364\n",
      "discriminator loss at step 1290: 0.6974405\n",
      "generator loss at step 1290: 0.75013494\n",
      "discriminator loss at step 1300: 0.6916386\n",
      "generator loss at step 1300: 0.7455702\n",
      "discriminator loss at step 1310: 0.685715\n",
      "generator loss at step 1310: 0.7398166\n",
      "discriminator loss at step 1320: 0.6891227\n",
      "generator loss at step 1320: 0.74410135\n",
      "discriminator loss at step 1330: 0.69561154\n",
      "generator loss at step 1330: 0.74642855\n",
      "discriminator loss at step 1340: 0.6940139\n",
      "generator loss at step 1340: 0.7447926\n",
      "discriminator loss at step 1350: 0.68971163\n",
      "generator loss at step 1350: 0.74794036\n",
      "discriminator loss at step 1360: 0.69059193\n",
      "generator loss at step 1360: 0.7438836\n",
      "discriminator loss at step 1370: 0.6890732\n",
      "generator loss at step 1370: 0.7381228\n",
      "discriminator loss at step 1380: 0.6990576\n",
      "generator loss at step 1380: 0.7330038\n",
      "discriminator loss at step 1390: 0.69460905\n",
      "generator loss at step 1390: 0.7414556\n",
      "discriminator loss at step 1400: 0.6909192\n",
      "generator loss at step 1400: 0.7394835\n",
      "discriminator loss at step 1410: 0.69172597\n",
      "generator loss at step 1410: 0.741701\n",
      "discriminator loss at step 1420: 0.69441473\n",
      "generator loss at step 1420: 0.74513894\n",
      "discriminator loss at step 1430: 0.6928921\n",
      "generator loss at step 1430: 0.73586607\n",
      "discriminator loss at step 1440: 0.68899506\n",
      "generator loss at step 1440: 0.7503768\n",
      "discriminator loss at step 1450: 0.6949031\n",
      "generator loss at step 1450: 0.72421724\n",
      "discriminator loss at step 1460: 0.69576645\n",
      "generator loss at step 1460: 0.74622333\n",
      "discriminator loss at step 1470: 0.6986368\n",
      "generator loss at step 1470: 0.7520212\n",
      "discriminator loss at step 1480: 0.6949441\n",
      "generator loss at step 1480: 0.75501657\n",
      "discriminator loss at step 1490: 0.6878324\n",
      "generator loss at step 1490: 0.74700785\n",
      "discriminator loss at step 1500: 0.6929616\n",
      "generator loss at step 1500: 0.74658644\n",
      "discriminator loss at step 1510: 0.6845715\n",
      "generator loss at step 1510: 0.75016165\n",
      "discriminator loss at step 1520: 0.68907297\n",
      "generator loss at step 1520: 0.7589965\n",
      "discriminator loss at step 1530: 0.68927276\n",
      "generator loss at step 1530: 0.7312734\n",
      "discriminator loss at step 1540: 0.6972555\n",
      "generator loss at step 1540: 0.73495746\n",
      "discriminator loss at step 1550: 0.69256514\n",
      "generator loss at step 1550: 0.7372406\n",
      "discriminator loss at step 1560: 0.69009197\n",
      "generator loss at step 1560: 0.7406877\n",
      "discriminator loss at step 1570: 0.6848826\n",
      "generator loss at step 1570: 0.74165606\n",
      "discriminator loss at step 1580: 0.68960845\n",
      "generator loss at step 1580: 0.74575937\n",
      "discriminator loss at step 1590: 0.6887151\n",
      "generator loss at step 1590: 0.7270977\n",
      "discriminator loss at step 1600: 0.68870145\n",
      "generator loss at step 1600: 0.74452674\n",
      "discriminator loss at step 1610: 0.68695974\n",
      "generator loss at step 1610: 0.7380017\n",
      "discriminator loss at step 1620: 0.6931796\n",
      "generator loss at step 1620: 0.74002147\n",
      "discriminator loss at step 1630: 0.695096\n",
      "generator loss at step 1630: 0.7441925\n",
      "discriminator loss at step 1640: 0.69172055\n",
      "generator loss at step 1640: 0.74656224\n",
      "discriminator loss at step 1650: 0.6744434\n",
      "generator loss at step 1650: 0.74230486\n",
      "discriminator loss at step 1660: 0.67863\n",
      "generator loss at step 1660: 0.75746644\n",
      "discriminator loss at step 1670: 0.69780254\n",
      "generator loss at step 1670: 0.74486387\n",
      "discriminator loss at step 1680: 0.6920774\n",
      "generator loss at step 1680: 0.7427339\n",
      "discriminator loss at step 1690: 0.686992\n",
      "generator loss at step 1690: 0.7354533\n",
      "discriminator loss at step 1700: 0.69312155\n",
      "generator loss at step 1700: 0.7492323\n",
      "discriminator loss at step 1710: 0.685361\n",
      "generator loss at step 1710: 0.739914\n",
      "discriminator loss at step 1720: 0.6486807\n",
      "generator loss at step 1720: 0.7429771\n",
      "discriminator loss at step 1730: 0.7175211\n",
      "generator loss at step 1730: 0.74692535\n",
      "discriminator loss at step 1740: 0.6901172\n",
      "generator loss at step 1740: 0.724018\n",
      "discriminator loss at step 1750: 0.7066792\n",
      "generator loss at step 1750: 0.71539134\n",
      "discriminator loss at step 1760: 0.68685985\n",
      "generator loss at step 1760: 0.73398834\n",
      "discriminator loss at step 1770: 0.68862695\n",
      "generator loss at step 1770: 0.75139433\n",
      "discriminator loss at step 1780: 0.69661224\n",
      "generator loss at step 1780: 0.7613245\n",
      "discriminator loss at step 1790: 0.6121001\n",
      "generator loss at step 1790: 0.7584141\n",
      "discriminator loss at step 1800: 0.6731456\n",
      "generator loss at step 1800: 0.76363593\n",
      "discriminator loss at step 1810: 0.69671726\n",
      "generator loss at step 1810: 0.77360165\n",
      "discriminator loss at step 1820: 0.6874525\n",
      "generator loss at step 1820: 0.7583791\n",
      "discriminator loss at step 1830: 0.68276036\n",
      "generator loss at step 1830: 0.7643827\n",
      "discriminator loss at step 1840: 0.68835163\n",
      "generator loss at step 1840: 0.7571179\n",
      "discriminator loss at step 1850: 0.68577325\n",
      "generator loss at step 1850: 0.73744845\n",
      "discriminator loss at step 1860: 0.6452385\n",
      "generator loss at step 1860: 0.6429374\n",
      "discriminator loss at step 1870: 0.67744875\n",
      "generator loss at step 1870: 0.8119024\n",
      "discriminator loss at step 1880: 0.6365481\n",
      "generator loss at step 1880: 0.78212434\n",
      "discriminator loss at step 1890: 0.69800985\n",
      "generator loss at step 1890: 0.7148697\n",
      "discriminator loss at step 1900: 0.6793488\n",
      "generator loss at step 1900: 0.69528013\n",
      "discriminator loss at step 1910: 0.69811857\n",
      "generator loss at step 1910: 0.6805586\n",
      "discriminator loss at step 1920: 0.6829243\n",
      "generator loss at step 1920: 0.7517268\n",
      "discriminator loss at step 1930: 0.66736495\n",
      "generator loss at step 1930: 0.72323304\n",
      "discriminator loss at step 1940: 0.710391\n",
      "generator loss at step 1940: 0.7532574\n",
      "discriminator loss at step 1950: 0.69607306\n",
      "generator loss at step 1950: 0.746992\n",
      "discriminator loss at step 1960: 0.6923234\n",
      "generator loss at step 1960: 0.7405201\n",
      "discriminator loss at step 1970: 0.6858425\n",
      "generator loss at step 1970: 0.7394225\n",
      "discriminator loss at step 1980: 0.67360336\n",
      "generator loss at step 1980: 0.7438868\n",
      "discriminator loss at step 1990: 0.6583313\n",
      "generator loss at step 1990: 0.77789855\n",
      "discriminator loss at step 2000: 0.64166605\n",
      "generator loss at step 2000: 0.739931\n",
      "discriminator loss at step 2010: 0.6549493\n",
      "generator loss at step 2010: 0.8457289\n"
     ]
    },
    {
     "name": "stdout",
     "output_type": "stream",
     "text": [
      "discriminator loss at step 2020: 0.6874932\n",
      "generator loss at step 2020: 0.77688\n",
      "discriminator loss at step 2030: 0.6798018\n",
      "generator loss at step 2030: 0.75800496\n",
      "discriminator loss at step 2040: 0.68550575\n",
      "generator loss at step 2040: 0.6903578\n",
      "discriminator loss at step 2050: 0.6747263\n",
      "generator loss at step 2050: 0.739214\n",
      "discriminator loss at step 2060: 0.59056807\n",
      "generator loss at step 2060: 0.7082219\n",
      "discriminator loss at step 2070: 0.6991123\n",
      "generator loss at step 2070: 0.80188596\n",
      "discriminator loss at step 2080: 0.68884313\n",
      "generator loss at step 2080: 0.6976617\n",
      "discriminator loss at step 2090: 0.63442373\n",
      "generator loss at step 2090: 0.72825515\n",
      "discriminator loss at step 2100: 0.6174053\n",
      "generator loss at step 2100: 0.74101025\n",
      "discriminator loss at step 2110: 0.61280566\n",
      "generator loss at step 2110: 0.78452957\n",
      "discriminator loss at step 2120: 0.67774886\n",
      "generator loss at step 2120: 0.73418844\n",
      "discriminator loss at step 2130: 0.5854166\n",
      "generator loss at step 2130: 0.85847247\n",
      "discriminator loss at step 2140: 0.74101955\n",
      "generator loss at step 2140: 0.7853154\n",
      "discriminator loss at step 2150: 0.6418333\n",
      "generator loss at step 2150: 0.84885263\n",
      "discriminator loss at step 2160: 0.6479906\n",
      "generator loss at step 2160: 0.8812707\n",
      "discriminator loss at step 2170: 0.54799235\n",
      "generator loss at step 2170: 0.7785572\n",
      "discriminator loss at step 2180: 0.5932539\n",
      "generator loss at step 2180: 0.72834206\n",
      "discriminator loss at step 2190: 0.50326777\n",
      "generator loss at step 2190: 0.79860216\n",
      "discriminator loss at step 2200: 0.4542338\n",
      "generator loss at step 2200: 0.787214\n",
      "discriminator loss at step 2210: 0.91061574\n",
      "generator loss at step 2210: 0.5209526\n",
      "discriminator loss at step 2220: 0.6629809\n",
      "generator loss at step 2220: 0.56421334\n",
      "discriminator loss at step 2230: 0.50782627\n",
      "generator loss at step 2230: 0.74324095\n",
      "discriminator loss at step 2240: 0.49954948\n",
      "generator loss at step 2240: 1.0148212\n",
      "discriminator loss at step 2250: 0.42038336\n",
      "generator loss at step 2250: 0.90416145\n",
      "discriminator loss at step 2260: 0.49935398\n",
      "generator loss at step 2260: 0.78478706\n",
      "discriminator loss at step 2270: 0.43821508\n",
      "generator loss at step 2270: 1.0182638\n",
      "discriminator loss at step 2280: 0.5603897\n",
      "generator loss at step 2280: 1.0486007\n",
      "discriminator loss at step 2290: 0.5050659\n",
      "generator loss at step 2290: 0.955733\n",
      "discriminator loss at step 2300: 0.4118085\n",
      "generator loss at step 2300: 0.9573005\n",
      "discriminator loss at step 2310: 0.38546196\n",
      "generator loss at step 2310: 0.9034721\n",
      "discriminator loss at step 2320: 0.41947302\n",
      "generator loss at step 2320: 0.94218457\n",
      "discriminator loss at step 2330: 0.3030383\n",
      "generator loss at step 2330: 0.89348805\n",
      "discriminator loss at step 2340: 0.5333928\n",
      "generator loss at step 2340: 1.1857338\n",
      "discriminator loss at step 2350: 0.58090365\n",
      "generator loss at step 2350: 0.90490484\n",
      "discriminator loss at step 2360: 0.4016285\n",
      "generator loss at step 2360: 0.99921477\n",
      "discriminator loss at step 2370: 0.2961529\n",
      "generator loss at step 2370: 0.9665167\n",
      "discriminator loss at step 2380: 0.31411314\n",
      "generator loss at step 2380: 0.93574876\n",
      "discriminator loss at step 2390: 0.3698036\n",
      "generator loss at step 2390: 1.1375805\n",
      "discriminator loss at step 2400: 0.33506793\n",
      "generator loss at step 2400: 1.1348128\n",
      "discriminator loss at step 2410: 0.43101186\n",
      "generator loss at step 2410: 0.96604156\n",
      "discriminator loss at step 2420: 0.529239\n",
      "generator loss at step 2420: 0.93090886\n",
      "discriminator loss at step 2430: 0.3928933\n",
      "generator loss at step 2430: 0.867746\n",
      "discriminator loss at step 2440: 0.32739216\n",
      "generator loss at step 2440: 1.0193704\n",
      "discriminator loss at step 2450: 0.33329326\n",
      "generator loss at step 2450: 1.0752634\n",
      "discriminator loss at step 2460: 0.29778132\n",
      "generator loss at step 2460: 0.98990345\n",
      "discriminator loss at step 2470: 0.3023661\n",
      "generator loss at step 2470: 0.96300685\n"
     ]
    },
    {
     "ename": "KeyboardInterrupt",
     "evalue": "",
     "output_type": "error",
     "traceback": [
      "\u001b[0;31m---------------------------------------------------------------------------\u001b[0m",
      "\u001b[0;31mKeyboardInterrupt\u001b[0m                         Traceback (most recent call last)",
      "\u001b[0;32m<ipython-input-22-fb57f3d3fbe5>\u001b[0m in \u001b[0;36m<module>\u001b[0;34m()\u001b[0m\n\u001b[1;32m     26\u001b[0m \u001b[0;34m\u001b[0m\u001b[0m\n\u001b[1;32m     27\u001b[0m     \u001b[0;31m# Train the discriminator\u001b[0m\u001b[0;34m\u001b[0m\u001b[0;34m\u001b[0m\u001b[0m\n\u001b[0;32m---> 28\u001b[0;31m     \u001b[0md_loss\u001b[0m \u001b[0;34m=\u001b[0m \u001b[0mdiscriminator\u001b[0m\u001b[0;34m.\u001b[0m\u001b[0mtrain_on_batch\u001b[0m\u001b[0;34m(\u001b[0m\u001b[0mcombined_poems\u001b[0m\u001b[0;34m,\u001b[0m \u001b[0mlabels\u001b[0m\u001b[0;34m)\u001b[0m\u001b[0;34m\u001b[0m\u001b[0m\n\u001b[0m\u001b[1;32m     29\u001b[0m     \u001b[0md_losses\u001b[0m\u001b[0;34m.\u001b[0m\u001b[0mappend\u001b[0m\u001b[0;34m(\u001b[0m\u001b[0md_loss\u001b[0m\u001b[0;34m)\u001b[0m\u001b[0;34m\u001b[0m\u001b[0m\n\u001b[1;32m     30\u001b[0m \u001b[0;34m\u001b[0m\u001b[0m\n",
      "\u001b[0;32m~/anaconda3/lib/python3.6/site-packages/keras/engine/training.py\u001b[0m in \u001b[0;36mtrain_on_batch\u001b[0;34m(self, x, y, sample_weight, class_weight)\u001b[0m\n\u001b[1;32m   1213\u001b[0m             \u001b[0mins\u001b[0m \u001b[0;34m=\u001b[0m \u001b[0mx\u001b[0m \u001b[0;34m+\u001b[0m \u001b[0my\u001b[0m \u001b[0;34m+\u001b[0m \u001b[0msample_weights\u001b[0m\u001b[0;34m\u001b[0m\u001b[0m\n\u001b[1;32m   1214\u001b[0m         \u001b[0mself\u001b[0m\u001b[0;34m.\u001b[0m\u001b[0m_make_train_function\u001b[0m\u001b[0;34m(\u001b[0m\u001b[0;34m)\u001b[0m\u001b[0;34m\u001b[0m\u001b[0m\n\u001b[0;32m-> 1215\u001b[0;31m         \u001b[0moutputs\u001b[0m \u001b[0;34m=\u001b[0m \u001b[0mself\u001b[0m\u001b[0;34m.\u001b[0m\u001b[0mtrain_function\u001b[0m\u001b[0;34m(\u001b[0m\u001b[0mins\u001b[0m\u001b[0;34m)\u001b[0m\u001b[0;34m\u001b[0m\u001b[0m\n\u001b[0m\u001b[1;32m   1216\u001b[0m         \u001b[0;32mreturn\u001b[0m \u001b[0munpack_singleton\u001b[0m\u001b[0;34m(\u001b[0m\u001b[0moutputs\u001b[0m\u001b[0;34m)\u001b[0m\u001b[0;34m\u001b[0m\u001b[0m\n\u001b[1;32m   1217\u001b[0m \u001b[0;34m\u001b[0m\u001b[0m\n",
      "\u001b[0;32m~/anaconda3/lib/python3.6/site-packages/keras/backend/tensorflow_backend.py\u001b[0m in \u001b[0;36m__call__\u001b[0;34m(self, inputs)\u001b[0m\n\u001b[1;32m   2664\u001b[0m                 \u001b[0;32mreturn\u001b[0m \u001b[0mself\u001b[0m\u001b[0;34m.\u001b[0m\u001b[0m_legacy_call\u001b[0m\u001b[0;34m(\u001b[0m\u001b[0minputs\u001b[0m\u001b[0;34m)\u001b[0m\u001b[0;34m\u001b[0m\u001b[0m\n\u001b[1;32m   2665\u001b[0m \u001b[0;34m\u001b[0m\u001b[0m\n\u001b[0;32m-> 2666\u001b[0;31m             \u001b[0;32mreturn\u001b[0m \u001b[0mself\u001b[0m\u001b[0;34m.\u001b[0m\u001b[0m_call\u001b[0m\u001b[0;34m(\u001b[0m\u001b[0minputs\u001b[0m\u001b[0;34m)\u001b[0m\u001b[0;34m\u001b[0m\u001b[0m\n\u001b[0m\u001b[1;32m   2667\u001b[0m         \u001b[0;32melse\u001b[0m\u001b[0;34m:\u001b[0m\u001b[0;34m\u001b[0m\u001b[0m\n\u001b[1;32m   2668\u001b[0m             \u001b[0;32mif\u001b[0m \u001b[0mpy_any\u001b[0m\u001b[0;34m(\u001b[0m\u001b[0mis_tensor\u001b[0m\u001b[0;34m(\u001b[0m\u001b[0mx\u001b[0m\u001b[0;34m)\u001b[0m \u001b[0;32mfor\u001b[0m \u001b[0mx\u001b[0m \u001b[0;32min\u001b[0m \u001b[0minputs\u001b[0m\u001b[0;34m)\u001b[0m\u001b[0;34m:\u001b[0m\u001b[0;34m\u001b[0m\u001b[0m\n",
      "\u001b[0;32m~/anaconda3/lib/python3.6/site-packages/keras/backend/tensorflow_backend.py\u001b[0m in \u001b[0;36m_call\u001b[0;34m(self, inputs)\u001b[0m\n\u001b[1;32m   2634\u001b[0m                                 \u001b[0msymbol_vals\u001b[0m\u001b[0;34m,\u001b[0m\u001b[0;34m\u001b[0m\u001b[0m\n\u001b[1;32m   2635\u001b[0m                                 session)\n\u001b[0;32m-> 2636\u001b[0;31m         \u001b[0mfetched\u001b[0m \u001b[0;34m=\u001b[0m \u001b[0mself\u001b[0m\u001b[0;34m.\u001b[0m\u001b[0m_callable_fn\u001b[0m\u001b[0;34m(\u001b[0m\u001b[0;34m*\u001b[0m\u001b[0marray_vals\u001b[0m\u001b[0;34m)\u001b[0m\u001b[0;34m\u001b[0m\u001b[0m\n\u001b[0m\u001b[1;32m   2637\u001b[0m         \u001b[0;32mreturn\u001b[0m \u001b[0mfetched\u001b[0m\u001b[0;34m[\u001b[0m\u001b[0;34m:\u001b[0m\u001b[0mlen\u001b[0m\u001b[0;34m(\u001b[0m\u001b[0mself\u001b[0m\u001b[0;34m.\u001b[0m\u001b[0moutputs\u001b[0m\u001b[0;34m)\u001b[0m\u001b[0;34m]\u001b[0m\u001b[0;34m\u001b[0m\u001b[0m\n\u001b[1;32m   2638\u001b[0m \u001b[0;34m\u001b[0m\u001b[0m\n",
      "\u001b[0;32m~/anaconda3/lib/python3.6/site-packages/tensorflow/python/client/session.py\u001b[0m in \u001b[0;36m__call__\u001b[0;34m(self, *args)\u001b[0m\n\u001b[1;32m   1449\u001b[0m         \u001b[0;32mif\u001b[0m \u001b[0mself\u001b[0m\u001b[0;34m.\u001b[0m\u001b[0m_session\u001b[0m\u001b[0;34m.\u001b[0m\u001b[0m_created_with_new_api\u001b[0m\u001b[0;34m:\u001b[0m\u001b[0;34m\u001b[0m\u001b[0m\n\u001b[1;32m   1450\u001b[0m           return tf_session.TF_SessionRunCallable(\n\u001b[0;32m-> 1451\u001b[0;31m               self._session._session, self._handle, args, status, None)\n\u001b[0m\u001b[1;32m   1452\u001b[0m         \u001b[0;32melse\u001b[0m\u001b[0;34m:\u001b[0m\u001b[0;34m\u001b[0m\u001b[0m\n\u001b[1;32m   1453\u001b[0m           return tf_session.TF_DeprecatedSessionRunCallable(\n",
      "\u001b[0;31mKeyboardInterrupt\u001b[0m: "
     ]
    }
   ],
   "source": [
    "iterations = 10000\n",
    "batch_size = 5\n",
    "\n",
    "# Start training loop\n",
    "start = 0\n",
    "# Track Losses\n",
    "d_losses = []\n",
    "g_losses = []\n",
    "for step in range(iterations):\n",
    "    # Sample random points in the latent space\n",
    "    random_latent_vectors = np.random.normal(size=(batch_size,num_steps, 1))\n",
    "\n",
    "    # Decode them to fake poems\n",
    "    generated_poems = generator.predict(random_latent_vectors)\n",
    "\n",
    "    # Combine them with real poems\n",
    "    stop = start + batch_size\n",
    "    real_poems = x_train[start: stop]\n",
    "    combined_poems = np.concatenate([generated_poems, real_poems])\n",
    "\n",
    "    # Assemble labels discriminating real from fake poems\n",
    "    labels = np.concatenate([np.ones((batch_size, 1)),\n",
    "                             np.zeros((batch_size, 1))])\n",
    "    # Add random noise to the labels - important trick!\n",
    "    labels += 0.05 * np.random.random(labels.shape)\n",
    "\n",
    "    # Train the discriminator\n",
    "    d_loss = discriminator.train_on_batch(combined_poems, labels)\n",
    "    d_losses.append(d_loss)\n",
    "    \n",
    "    # sample random points in the latent space\n",
    "    random_latent_vectors = np.random.normal(size=(batch_size*2, num_steps, 1))\n",
    "\n",
    "    # Assemble labels that say \"all real poems\"\n",
    "    misleading_targets = np.zeros((batch_size*2, 1))\n",
    "\n",
    "    # Train the generator (via the gan model,\n",
    "    # where the discriminator weights are frozen)\n",
    "    g_loss = gan.train_on_batch(random_latent_vectors, misleading_targets)\n",
    "    g_losses.append(g_loss)\n",
    "    \n",
    "    start += batch_size\n",
    "    if start > len(x_train) - batch_size:\n",
    "        start = 0\n",
    "    \n",
    "    if step % 10 == 0:\n",
    "        # Save model weights\n",
    "        #gan.save_weights('gan.h5')\n",
    "\n",
    "        # Print metrics\n",
    "        print('discriminator loss at step %s: %s' % (step, d_loss))\n",
    "        print('generator loss at step %s: %s' % (step, g_loss))\n",
    "        "
   ]
  },
  {
   "cell_type": "code",
   "execution_count": 23,
   "metadata": {},
   "outputs": [
    {
     "data": {
      "text/plain": [
       "<matplotlib.legend.Legend at 0xb2ec29d30>"
      ]
     },
     "execution_count": 23,
     "metadata": {},
     "output_type": "execute_result"
    },
    {
     "data": {
      "image/png": "[encoded data removed]",
      "text/plain": [
       "<Figure size 432x288 with 1 Axes>"
      ]
     },
     "metadata": {},
     "output_type": "display_data"
    }
   ],
   "source": [
    "import matplotlib.pyplot as plt\n",
    "%matplotlib inline\n",
    "plt.plot(g_losses)\n",
    "plt.plot(d_losses)\n",
    "plt.legend(['Gen_loss','Disc_loss'])"
   ]
  },
  {
   "cell_type": "code",
   "execution_count": 24,
   "metadata": {},
   "outputs": [],
   "source": [
    "random_latent_vector = np.random.normal(size=(1,num_steps, 1))\n",
    "\n",
    "# Decode them to fake poems\n",
    "generated_poem = generator.predict(random_latent_vector)"
   ]
  },
  {
   "cell_type": "code",
   "execution_count": 25,
   "metadata": {},
   "outputs": [
    {
     "data": {
      "text/plain": [
       "array([[ 4.8575358e-04, -1.9415155e-02, -3.2703218e-03, ...,\n",
       "        -1.4718541e-02, -2.1906139e-03, -1.6929712e-02],\n",
       "       [ 3.8789891e-04, -2.2236668e-02,  2.3301807e-03, ...,\n",
       "        -2.1957772e-02,  1.4581555e-03, -6.8360684e-03],\n",
       "       [ 1.9202994e-03, -2.7034620e-02,  4.6427529e-03, ...,\n",
       "        -2.9199930e-02,  8.1297792e-03, -4.8007676e-03],\n",
       "       ...,\n",
       "       [ 6.3493466e-01,  5.6074250e-01,  1.8630058e-01, ...,\n",
       "         5.2177477e-01, -3.7874365e-01, -8.1796139e-01],\n",
       "       [ 6.3131809e-01,  5.6201589e-01,  1.8792439e-01, ...,\n",
       "         5.2780575e-01, -3.7630427e-01, -8.1706989e-01],\n",
       "       [ 6.3339984e-01,  5.6165701e-01,  1.9029759e-01, ...,\n",
       "         5.2543670e-01, -3.7873662e-01, -8.1751895e-01]], dtype=float32)"
      ]
     },
     "execution_count": 25,
     "metadata": {},
     "output_type": "execute_result"
    }
   ],
   "source": [
    "generated_poem.reshape(177,50)"
   ]
  },
  {
   "cell_type": "code",
   "execution_count": 26,
   "metadata": {},
   "outputs": [],
   "source": [
    "import math\n",
    "poem = []\n",
    "dists = []\n",
    "for word in generated_poem[0]:\n",
    "    num = 0\n",
    "    dist = math.inf\n",
    "    for ind, vec in enumerate(embedding_matrix[1:]):\n",
    "        temp = np.linalg.norm(vec-word)\n",
    "        if temp < dist:\n",
    "            dist = temp\n",
    "            num = ind\n",
    "    if num != 0:\n",
    "        poem.append(tokenizer.index_word[num])\n",
    "    else:\n",
    "        poem.append(' ')\n",
    "    dists.append(dist)"
   ]
  },
  {
   "cell_type": "markdown",
   "metadata": {},
   "source": [
    "The eucliean distance at each step apears to gradually increase, suggesting that the network was fairly decent at the earlier stages of the poem but got increasingly more difficult to predict the next word as the poem progressed. "
   ]
  },
  {
   "cell_type": "code",
   "execution_count": 27,
   "metadata": {},
   "outputs": [
    {
     "data": {
      "text/plain": [
       "<matplotlib.legend.Legend at 0xb2ed019b0>"
      ]
     },
     "execution_count": 27,
     "metadata": {},
     "output_type": "execute_result"
    },
    {
     "data": {
      "image/png": "[encoded data removed]",
      "text/plain": [
       "<Figure size 432x288 with 1 Axes>"
      ]
     },
     "metadata": {},
     "output_type": "display_data"
    }
   ],
   "source": [
    "plt.plot(dists)\n",
    "plt.legend(['Distance from word'])"
   ]
  },
  {
   "cell_type": "code",
   "execution_count": 28,
   "metadata": {},
   "outputs": [
    {
     "name": "stdout",
     "output_type": "stream",
     "text": [
      "['shame', 'shame', 'shame', 'shame', 'shame', 'shame', 'shame', 'shame', 'shame', 'shame', 'shame', 'shame', 'shame', 'shame', 'shame', 'shame', 'shame', 'shame', 'shame', 'shame', 'shame', 'shame', 'shame', 'shame', 'shame', 'shame', 'shame', 'shame', 'shame', 'shame', 'shame', 'shame', 'shame', 'shame', 'shame', 'shame', 'shame', 'shame', 'shame', 'shame', 'shame', 'shame', 'shame', 'shame', 'shame', 'shame', 'shame', 'shame', 'shame', 'shame', 'shame', 'shame', 'shame', 'shame', 'shame', 'shame', 'shame', 'shame', 'shame', 'shame', 'shame', 'shame', 'shame', 'shame', 'shame', 'shame', 'shame', 'shame', 'shame', 'shame', 'shame', 'shame', 'shame', 'shame', 'shame', 'shame', 'shame', 'shame', 'shame', 'shame', 'shame', 'shame', 'shame', 'shame', 'shame', 'shame', 'shame', 'shame', 'shame', 'shame', 'shame', 'shame', 'shame', 'shame', 'shame', 'shame', 'shame', 'shame', 'shame', 'shame', 'shame', 'shame', 'shame', 'shame', 'shame', 'shame', 'shame', 'shame', 'shame', 'shame', 'shame', 'shame', 'shame', 'shame', 'shame', 'shame', 'shame', 'shame', 'shame', 'shame', 'shame', 'shame', 'shame', 'shame', 'shame', 'shame', 'shame', 'shame', 'shame', 'shame', 'shame', 'shame', 'shame', 'shame', 'shame', 'shame', 'shame', 'shame', 'shame', 'shame', 'shame', 'shame', 'shame', 'shame', 'shame', 'shame', 'shame', 'shame', 'shame', 'shame', 'shame', 'shame', 'shame', 'shame', 'shame', 'shame', 'shame', 'shame', 'shame', 'shame', 'shame', 'shame', 'shame', 'shame', 'shame', 'shame', 'shame', 'shame', 'shame', 'shame', 'shame', 'shame', 'shame', 'shame', 'shame', 'shame', 'shame']\n"
     ]
    }
   ],
   "source": [
    "print(poem)"
   ]
  },
  {
   "cell_type": "code",
   "execution_count": null,
   "metadata": {},
   "outputs": [],
   "source": []
  }
 ],
 "metadata": {
  "kernelspec": {
   "display_name": "Python 3",
   "language": "python",
   "name": "python3"
  },
  "language_info": {
   "codemirror_mode": {
    "name": "ipython",
    "version": 3
   },
   "file_extension": ".py",
   "mimetype": "text/x-python",
   "name": "python",
   "nbconvert_exporter": "python",
   "pygments_lexer": "ipython3",
   "version": "3.6.5"
  }
 },
 "nbformat": 4,
 "nbformat_minor": 2
}
