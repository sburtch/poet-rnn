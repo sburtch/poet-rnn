{
 "cells": [
  {
   "cell_type": "markdown",
   "metadata": {},
   "source": [
    "Objective:\n",
    "My objevtive for the machine learning project is to create a Recurrent Neural Network (RNN) that can generate (somewhat) legible poetry based on a collection of poems. To do so, I will clean the data and cut up groups of words into sets of inputs for the network to take. The size of the input i.e. the number of words is yet to be determined considering we want to have a large enough input size to gather important features like rhyme schemes and context for the LSTM cell to remember, but we don't want to be too large in our input size that training is too slow. \n",
    "\n",
    "Instead of feeding in actual words, I will encode each word into an identifier, making the unique set of these identifiers as the Y vector for our supervised learning to take place. The vocabulary vector, our Y vector, will be one hot encoded for the word that was actually present, which the LSTM cell will attempt at predicting for each time step. \n",
    "\n",
    "link to data : https://www.kaggle.com/ishnoor/poetry-analysis-with-machine-learning"
   ]
  },
  {
   "cell_type": "code",
   "execution_count": 1,
   "metadata": {},
   "outputs": [],
   "source": [
    "import pandas as pd\n",
    "import numpy as np\n",
    "\n",
    "poems = pd.read_csv(\"all.csv\")"
   ]
  },
  {
   "cell_type": "code",
   "execution_count": 2,
   "metadata": {},
   "outputs": [
    {
     "name": "stderr",
     "output_type": "stream",
     "text": [
      "/Users/samburtch/anaconda3/lib/python3.6/site-packages/ipykernel_launcher.py:3: SettingWithCopyWarning: \n",
      "A value is trying to be set on a copy of a slice from a DataFrame\n",
      "\n",
      "See the caveats in the documentation: http://pandas.pydata.org/pandas-docs/stable/indexing.html#indexing-view-versus-copy\n",
      "  This is separate from the ipykernel package so we can avoid doing imports until\n"
     ]
    }
   ],
   "source": [
    "poems['length'] = 0\n",
    "for i in range(len(poems)):\n",
    "    poems['length'][i] = len(poems['content'][i])"
   ]
  },
  {
   "cell_type": "markdown",
   "metadata": {},
   "source": [
    "Clean data by deleting null entries etc."
   ]
  },
  {
   "cell_type": "code",
   "execution_count": 3,
   "metadata": {
    "scrolled": true
   },
   "outputs": [
    {
     "name": "stdout",
     "output_type": "stream",
     "text": [
      "552\n",
      "536\n",
      "518\n",
      "465\n"
     ]
    }
   ],
   "source": [
    "poems = poems.sort_values(by='length') #Sort by length of poem\n",
    "poems = poems[14:len(poems)-5] # Delete tails on both sides\n",
    "poems = poems[poems['content'].str.contains('Published')==False]# Eliminate non-poems with 'Published'\n",
    "print(len(poems))\n",
    "poems = poems[poems['content'].str.contains('from Selected Poems')==False]# Eliminate non-poems with 'from Selected Poems'\n",
    "print(len(poems))\n",
    "poems = poems[poems['content'].str.contains('Collected Poems')==False]# Eliminate non-poems with 'from Collected Poems'\n",
    "print(len(poems))\n",
    "#Eliminate where poem is just intro\n",
    "for ind, row in poems.iterrows():\n",
    "    if row['author'] in row['content'].upper() or str(row['poem name']) in row['content'][:40]:\n",
    "        poems = poems.drop([ind])\n",
    "print(len(poems))"
   ]
  },
  {
   "cell_type": "markdown",
   "metadata": {},
   "source": [
    "Create vocab size and word dictionary"
   ]
  },
  {
   "cell_type": "code",
   "execution_count": 9,
   "metadata": {},
   "outputs": [
    {
     "name": "stdout",
     "output_type": "stream",
     "text": [
      "10083\n",
      "['ornaments', 'rusts', 'vphold', 'desecrating', 'tempes', 'keeper', 'height', 'fickle', 'horsemanship', 'mapled', 'pretense', 'tarquin', 'ermines', 'trustees', 'healing', 'helpful', 'unmatched', 'ask', 'herrings', 'fishers', 'trim', 'oer', 'struttin', 'heels', 'deity', 'sordid', 'gently', 'hangs', 'reveald', 'torture', 'anon', 'pheasant', 'wile', 'flares', 'village', 'colin', 'parchd', 'integrity', 'spare', 'returne', 'vaines', 'any', 'ruminate', 'feedst', 'unchiselled', 'rippling', 'shaken', 'vale', 'today', 'withering', 'derivd', 'rhythms', 'atomies', 'homely', 'silently', 'iridescent', 'lerne', 'twain', 'grown', 'muscles', 'bridges', 'hurt', 'look', 'curious', 'flout', 'plans', 'boss', 'eager', 'unforgotten', 'bight', 'uplifted', 'hits', 'maim', 'bayleaves', 'subornd', 'enjoying', 'swan', 'alteration', 'undone', 'magnified', 'courteous', 'such', 'went', 'shorn', 'praise', 'wil', 'drunk', 'majors', 'phyp', 'take', 'tedious', 'pursuivants', 'accent', 'stirs', 'filed', 'darte', 'nebulous', 'lustful', 'ice', 'difference', 'lemons', 'jolly', 'rolle', 'wee', 'walsingham', 'enterprise', 'causeth', 'complexion', 'tointergraft', 'dipped', 'windy', 'enough', 'prays', 'cherish', 'coupe', 'landing', 'grumble', 'spittle', 'abed', 'tension', 'natural', 'thys', 'argument', 'cities', 'coral', 'finned', 'befell', 'reassuring', 'palatial', 'brestes', 'sops', 'heady', 'agitante', 'books', 'spied', 'stounds', 'latest', 'hover', 'heave', 'been', 'profaned', 'evewraith', 'desect', 'quote', 'informer', 'prime', 'paradises', 'cymbal', 'bathing', 'huntsmen', 'chieftain', 'using', 'knees', 'housetops', 'fables', 'roam', 'lak', 'sette', 'changeth', 'gardens', 'crucified', 'wore', 'mocks', 'beatin', 'arising', 'satans', 'gavest', 'each', 'blasts', 'grow', 'jade', 'advance', 'salmon', 'thought', 'speedier', 'demur', 'remedy', 'innuendoes', 'aspiring', 'leavles', 'prickling', 'empirie', 'streames', 'eyes', 'bulwark', 'sexe', 'appointed', 'angering', 'antedate', 'trampling', 'gun', 'barnacles', 'thondring', 'least', 'undertaken', 'discipline', 'chaucer', 'experience', 'joys', 'thereto']\n"
     ]
    }
   ],
   "source": [
    "num_poems = len(poems)\n",
    "poem = poems['content'][:num_poems]\n",
    "poem = poem.reset_index(drop=True)\n",
    "temp = ''\n",
    "for i in range(num_poems):\n",
    "    temp += poem[i] + '\\r\\n'\n",
    "poem = temp\n",
    "## We only want words, so eliminate \\r\\n\n",
    "poem = poem.replace('\\r\\n\\r\\n', '\\r\\n')\n",
    "poem = poem.replace('\\r\\n', ' ')\n",
    "poem = poem.replace('\\'', '')\n",
    "\n",
    "import re\n",
    "poem = re.sub(' +',' ',poem)\n",
    "poem = poem.lower()\n",
    "poem = re.findall(r\"[\\w]+|[.,!?;:]\",poem)\n",
    "words = list(set(poem))\n",
    "vocab_size = len(words)\n",
    "print(vocab_size)\n",
    "print(words[:200])"
   ]
  },
  {
   "cell_type": "code",
   "execution_count": 23,
   "metadata": {},
   "outputs": [
    {
     "name": "stdout",
     "output_type": "stream",
     "text": [
      "349\n",
      "           length\n",
      "count  349.000000\n",
      "mean   592.604585\n",
      "std    166.559035\n",
      "min    115.000000\n",
      "25%    538.000000\n",
      "50%    618.000000\n",
      "75%    651.000000\n",
      "max    993.000000\n"
     ]
    },
    {
     "data": {
      "image/png": "[encoded data removed]",
      "text/plain": [
       "<Figure size 432x288 with 1 Axes>"
      ]
     },
     "metadata": {},
     "output_type": "display_data"
    }
   ],
   "source": [
    "#poems['length'].hist(bins=40)\n",
    "X = poems[poems['length'] > 100]\n",
    "X = poems[poems['length'] < 1000]\n",
    "X.hist()\n",
    "print(X.describe())"
   ]
  },
  {
   "cell_type": "markdown",
   "metadata": {},
   "source": [
    "RNN Model:"
   ]
  },
  {
   "cell_type": "code",
   "execution_count": null,
   "metadata": {
    "scrolled": false
   },
   "outputs": [],
   "source": [
    "from keras.models import Sequential\n",
    "\n",
    "num_steps = 1000\n",
    "\n",
    "model = Sequential()\n",
    "model.add(Embedding(vocabulary, hidden_size, input_length=num_steps))\n",
    "model.add(LSTM(hidden_size, return_sequences=True))\n",
    "# model.add(LSTM(hidden_size, return_sequences=True))\n",
    "if use_dropout:\n",
    "    model.add(Dropout(0.5))\n",
    "model.add(TimeDistributed(Dense(vocabulary)))\n",
    "model.add(Activation('softmax'))"
   ]
  },
  {
   "cell_type": "markdown",
   "metadata": {},
   "source": [
    "Train Model"
   ]
  },
  {
   "cell_type": "markdown",
   "metadata": {},
   "source": []
  }
 ],
 "metadata": {
  "kernelspec": {
   "display_name": "Python 3",
   "language": "python",
   "name": "python3"
  },
  "language_info": {
   "codemirror_mode": {
    "name": "ipython",
    "version": 3
   },
   "file_extension": ".py",
   "mimetype": "text/x-python",
   "name": "python",
   "nbconvert_exporter": "python",
   "pygments_lexer": "ipython3",
   "version": "3.6.5"
  }
 },
 "nbformat": 4,
 "nbformat_minor": 2
}
